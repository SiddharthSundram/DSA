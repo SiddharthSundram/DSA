{
 "cells": [
  {
   "cell_type": "markdown",
   "id": "3d101ffb",
   "metadata": {},
   "source": [
    "Given an array of integers nums and an integer target, return indices of the two numbers such that they add up to target.\n",
    "\n",
    "You may assume that each input would have exactly one solution, and you may not use the same element twice.\n",
    "\n",
    "You can return the answer in any order."
   ]
  },
  {
   "cell_type": "code",
   "execution_count": 4,
   "id": "7d566951",
   "metadata": {},
   "outputs": [
    {
     "data": {
      "text/plain": [
       "(0, 1)"
      ]
     },
     "execution_count": 4,
     "metadata": {},
     "output_type": "execute_result"
    }
   ],
   "source": [
    "class Solution(object):\n",
    "    def twoSum(self, nums, target):\n",
    "        for i in range(len(nums)):\n",
    "            for j in range(i+1,len(nums)):\n",
    "                if nums[i] + nums[j] == target:\n",
    "                    return i,j\n",
    "                \n",
    "ob = Solution()\n",
    "ob.twoSum([2,7,4],9) "
   ]
  },
  {
   "cell_type": "markdown",
   "id": "738d5390",
   "metadata": {},
   "source": [
    "#### Given a binary array nums, return the maximum number of consecutive 1's in the array."
   ]
  },
  {
   "cell_type": "code",
   "execution_count": 3,
   "id": "42843ff0",
   "metadata": {},
   "outputs": [
    {
     "name": "stdout",
     "output_type": "stream",
     "text": [
      "6\n"
     ]
    }
   ],
   "source": [
    "class Solution(object):\n",
    "    def findMaxConsecutiveOnes(self, nums):\n",
    "        \"\"\"\n",
    "        :type nums: List[int]\n",
    "        :rtype: int\n",
    "        \"\"\"\n",
    "        tempstreek = 0\n",
    "        hstreek = 0\n",
    "        for i in nums:\n",
    "            if i == 1:\n",
    "                if tempstreek > 0:\n",
    "                    tempstreek += 1\n",
    "                else:\n",
    "                    tempstreek +=1\n",
    "            else:\n",
    "                if tempstreek > hstreek:\n",
    "                    hstreek = tempstreek\n",
    "                tempstreek = 0\n",
    "        if tempstreek > hstreek:\n",
    "            hstreek = tempstreek\n",
    "        return hstreek\n",
    "    \n",
    "a = Solution()\n",
    "b = a.findMaxConsecutiveOnes([1,0,1,1,1,0,1,1,1,1,1,1])\n",
    "print(b)"
   ]
  },
  {
   "cell_type": "markdown",
   "id": "2875baa1",
   "metadata": {},
   "source": [
    "### Given an array nums of integers, return how many of them contain an even number of digits."
   ]
  },
  {
   "cell_type": "code",
   "execution_count": 2,
   "id": "a2003d5e",
   "metadata": {},
   "outputs": [
    {
     "name": "stdout",
     "output_type": "stream",
     "text": [
      "2\n"
     ]
    }
   ],
   "source": [
    "class Solution(object):\n",
    "    def findNumbers(self, nums):\n",
    "        \"\"\"\n",
    "        :type nums: List[int]\n",
    "        :rtype: int\n",
    "        \"\"\"\n",
    "        ## using string\n",
    "        # c = 0\n",
    "        # for i in nums:\n",
    "        #     a = str(i)\n",
    "        #     l = len(a)\n",
    "        #     if l % 2 == 0:\n",
    "        #         c += 1\n",
    "        # return c\n",
    "        \n",
    "        ## using division\n",
    "        c = 0\n",
    "        for i in nums:\n",
    "            length = 0\n",
    "            while i > 0:\n",
    "                i = i // 10\n",
    "                length +=1\n",
    "                \n",
    "            if length % 2 == 0:\n",
    "                c +=1\n",
    "        return c\n",
    "                \n",
    "a = Solution()\n",
    "b = a.findNumbers([12,345,2,6,7896])\n",
    "print(b)"
   ]
  },
  {
   "cell_type": "markdown",
   "id": "8a40f143",
   "metadata": {},
   "source": [
    "##### Given an integer array nums sorted in non-decreasing order, return an array of the squares of each number sorted in non-decreasing order."
   ]
  },
  {
   "cell_type": "code",
   "execution_count": 1,
   "id": "13f5f5b1",
   "metadata": {},
   "outputs": [
    {
     "name": "stdout",
     "output_type": "stream",
     "text": [
      "[0, 1, 9, 16, 100]\n"
     ]
    }
   ],
   "source": [
    "class Solution(object):\n",
    "    def sortedSquares(self, nums):\n",
    "        \"\"\"\n",
    "        :type nums: List[int]\n",
    "        :rtype: List[int]\n",
    "        \"\"\"\n",
    "        arr = []\n",
    "        for i in nums:\n",
    "            s = i*i\n",
    "            arr.append(s)\n",
    "        return sorted(arr)\n",
    "    \n",
    "a = Solution()\n",
    "b = a.sortedSquares([-4,-1,0,3,10])\n",
    "print(b)"
   ]
  },
  {
   "cell_type": "markdown",
   "id": "493efd68",
   "metadata": {},
   "source": [
    "##### Given the array nums, for each nums[i] find out how many numbers in the array are smaller than it. That is, for each nums[i] you have to count the number of valid j's such that j != i and nums[j] < nums[i]."
   ]
  },
  {
   "cell_type": "code",
   "execution_count": 3,
   "id": "88db12c9",
   "metadata": {},
   "outputs": [
    {
     "name": "stdout",
     "output_type": "stream",
     "text": [
      "[0, 3, 1, 2, 4]\n"
     ]
    }
   ],
   "source": [
    "class Solution(object):\n",
    "    def smallerNumbersThanCurrent(self, nums):\n",
    "        \"\"\"\n",
    "        :type nums: List[int]\n",
    "        :rtype: List[int]\n",
    "        \"\"\"\n",
    "        arr = []\n",
    "        for i in range(len(nums)):\n",
    "            count = 0\n",
    "            for j in range(len(nums)):\n",
    "                if i == j:\n",
    "                    continue\n",
    "                else:\n",
    "                    if nums[i] > nums[j]:\n",
    "                        count += 1\n",
    "            arr.append(count)\n",
    "        return arr\n",
    "\n",
    "a = Solution()\n",
    "b = a.smallerNumbersThanCurrent([-4,6,0,3,10])\n",
    "print(b)"
   ]
  },
  {
   "cell_type": "markdown",
   "id": "6c794d4d",
   "metadata": {},
   "source": [
    "Given an integer array nums and an integer val, remove all occurrences of val in nums in-place. The order of the elements may be changed. Then return the number of elements in nums which are not equal to val.\n",
    "\n",
    "Consider the number of elements in nums which are not equal to val be k, to get accepted, you need to do the following things:\n",
    "\n",
    "Change the array nums such that the first k elements of nums contain the elements which are not equal to val. The remaining elements of nums are not important as well as the size of nums.\n",
    "Return k."
   ]
  },
  {
   "cell_type": "code",
   "execution_count": 2,
   "id": "d295da7e",
   "metadata": {},
   "outputs": [
    {
     "name": "stdout",
     "output_type": "stream",
     "text": [
      "4\n"
     ]
    }
   ],
   "source": [
    "class Solution(object):\n",
    "    def removeElement(self, nums, val):\n",
    "        \"\"\"\n",
    "        :type nums: List[int]\n",
    "        :type val: int\n",
    "        :rtype: int\n",
    "        \"\"\"\n",
    "        i = 0\n",
    "        n = len(nums)\n",
    "        while i < n:\n",
    "            if nums[i] == val:\n",
    "                nums[i] = nums[n-1]\n",
    "                n -= 1\n",
    "            else:\n",
    "                i += 1\n",
    "        return n\n",
    "a = Solution()\n",
    "b = a.removeElement([3,6,0,5,3,10],3)\n",
    "print(b)"
   ]
  },
  {
   "cell_type": "markdown",
   "id": "d95d0c49",
   "metadata": {},
   "source": [
    "You are given two integer arrays nums1 and nums2, sorted in non-decreasing order, and two integers m and n, representing the number of elements in nums1 and nums2 respectively.\n",
    "\n",
    "Merge nums1 and nums2 into a single array sorted in non-decreasing order.\n",
    "\n",
    "The final sorted array should not be returned by the function, but instead be stored inside the array nums1. To accommodate this, nums1 has a length of m + n, where the first m elements denote the elements that should be merged, and the last n elements are set to 0 and should be ignored. nums2 has a length of n."
   ]
  },
  {
   "cell_type": "code",
   "execution_count": 7,
   "id": "5657a284",
   "metadata": {},
   "outputs": [
    {
     "name": "stdout",
     "output_type": "stream",
     "text": [
      "[1, 2, 2, 3, 5, 6]\n"
     ]
    }
   ],
   "source": [
    "class Solution(object):\n",
    "    def merge(self, nums1, m, nums2, n):\n",
    "        \"\"\"\n",
    "        :type nums1: List[int]\n",
    "        :type m: int\n",
    "        :type nums2: List[int]\n",
    "        :type n: int\n",
    "        :rtype: None Do not return anything, modify nums1 in-place instead.\n",
    "        \"\"\"\n",
    "        i = m-1\n",
    "        j = n-1\n",
    "        k = m+n -1\n",
    "        \n",
    "        while i >= 0 and j >=0:\n",
    "            if nums1[i] > nums2[j]:\n",
    "                nums1[k] = nums1[i]\n",
    "                i -= 1\n",
    "            \n",
    "            else:\n",
    "                nums1[k] = nums2[j]\n",
    "                j-=1\n",
    "            k -= 1\n",
    "            \n",
    "        while j >=0:\n",
    "            nums1[k] = nums2[j]\n",
    "            j -= 1\n",
    "            k -= 1\n",
    "        return nums1\n",
    "    \n",
    "a = Solution()\n",
    "b = a.merge([1,2,3,0,0,0],3,[2,5,6],3)\n",
    "print(b)   "
   ]
  },
  {
   "cell_type": "markdown",
   "id": "9c37509a",
   "metadata": {},
   "source": [
    "\n",
    "Given a non-empty array of integers nums, every element appears twice except for one. Find that single one.\n",
    "\n",
    "You must implement a solution with a linear runtime complexity and use only constant extra space."
   ]
  },
  {
   "cell_type": "code",
   "execution_count": 3,
   "id": "98dbd46c",
   "metadata": {},
   "outputs": [
    {
     "name": "stdout",
     "output_type": "stream",
     "text": [
      "5\n"
     ]
    }
   ],
   "source": [
    "class Solution(object):\n",
    "    def singleNumber(self, nums):\n",
    "        \"\"\"\n",
    "        :type nums: List[int]\n",
    "        :rtype: int\n",
    "        \"\"\"\n",
    "        result = 0\n",
    "        for i in nums:\n",
    "            result = result ^ i\n",
    "        return result\n",
    "    \n",
    "a = Solution()\n",
    "b = a.singleNumber([5,2,2])\n",
    "print(b) "
   ]
  }
 ],
 "metadata": {
  "kernelspec": {
   "display_name": "base",
   "language": "python",
   "name": "python3"
  },
  "language_info": {
   "codemirror_mode": {
    "name": "ipython",
    "version": 3
   },
   "file_extension": ".py",
   "mimetype": "text/x-python",
   "name": "python",
   "nbconvert_exporter": "python",
   "pygments_lexer": "ipython3",
   "version": "3.12.7"
  }
 },
 "nbformat": 4,
 "nbformat_minor": 5
}
