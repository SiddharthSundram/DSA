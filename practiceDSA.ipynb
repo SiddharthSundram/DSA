{
 "cells": [
  {
   "cell_type": "markdown",
   "id": "24b3bcfb",
   "metadata": {},
   "source": [
    "### Given marks of a student, print on the screen:\n",
    "\n",
    "Grade A if marks >= 90\n",
    "Grade B if marks >= 70\n",
    "Grade C if marks >= 50\n",
    "Grade D if marks >= 35\n",
    "Fail, otherwise."
   ]
  },
  {
   "cell_type": "code",
   "execution_count": 1,
   "id": "24b0287f",
   "metadata": {},
   "outputs": [
    {
     "name": "stdout",
     "output_type": "stream",
     "text": [
      "Grade A\n"
     ]
    }
   ],
   "source": [
    "class Solution:\n",
    "    def studentGrade(self, marks):\n",
    "        if marks >= 90:\n",
    "            print(\"Grade A\")\n",
    "        elif marks >= 70:\n",
    "            print(\"Grade B\")\n",
    "        elif marks >= 50:\n",
    "            print(\"Grade C\")\n",
    "        elif marks >= 35:\n",
    "            print(\"Grade D\")\n",
    "        else:\n",
    "            print(\"Fail\")\n",
    "\n",
    "\n",
    "marks = int(input(\"Enter marks: \"))\n",
    "ob = Solution()\n",
    "ob.studentGrade(marks) \n"
   ]
  }
 ],
 "metadata": {
  "kernelspec": {
   "display_name": "base",
   "language": "python",
   "name": "python3"
  },
  "language_info": {
   "codemirror_mode": {
    "name": "ipython",
    "version": 3
   },
   "file_extension": ".py",
   "mimetype": "text/x-python",
   "name": "python",
   "nbconvert_exporter": "python",
   "pygments_lexer": "ipython3",
   "version": "3.12.7"
  }
 },
 "nbformat": 4,
 "nbformat_minor": 5
}
