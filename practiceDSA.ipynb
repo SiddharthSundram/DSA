{
 "cells": [
  {
   "cell_type": "markdown",
   "id": "24b3bcfb",
   "metadata": {},
   "source": [
    "### Given marks of a student, print on the screen:\n",
    "\n",
    "Grade A if marks >= 90\n",
    "Grade B if marks >= 70\n",
    "Grade C if marks >= 50\n",
    "Grade D if marks >= 35\n",
    "Fail, otherwise."
   ]
  },
  {
   "cell_type": "code",
   "execution_count": 1,
   "id": "24b0287f",
   "metadata": {},
   "outputs": [
    {
     "name": "stdout",
     "output_type": "stream",
     "text": [
      "Grade A\n"
     ]
    }
   ],
   "source": [
    "class Solution:\n",
    "    def studentGrade(self, marks):\n",
    "        if marks >= 90:\n",
    "            print(\"Grade A\")\n",
    "        elif marks >= 70:\n",
    "            print(\"Grade B\")\n",
    "        elif marks >= 50:\n",
    "            print(\"Grade C\")\n",
    "        elif marks >= 35:\n",
    "            print(\"Grade D\")\n",
    "        else:\n",
    "            print(\"Fail\")\n",
    "\n",
    "\n",
    "marks = int(input(\"Enter marks: \"))\n",
    "ob = Solution()\n",
    "ob.studentGrade(marks) \n"
   ]
  },
  {
   "cell_type": "markdown",
   "id": "29aeab7f",
   "metadata": {},
   "source": [
    "Given an array of integers nums and an integer target, return indices of the two numbers such that they add up to target.\n",
    "\n",
    "You may assume that each input would have exactly one solution, and you may not use the same element twice.\n",
    "\n",
    "You can return the answer in any order."
   ]
  },
  {
   "cell_type": "code",
   "execution_count": 2,
   "id": "9e398d41",
   "metadata": {},
   "outputs": [
    {
     "data": {
      "text/plain": [
       "(0, 1)"
      ]
     },
     "execution_count": 2,
     "metadata": {},
     "output_type": "execute_result"
    }
   ],
   "source": [
    "class Solution(object):\n",
    "    def twoSum(self, nums, target):\n",
    "        for i in range(len(nums)):\n",
    "            for j in range(i+1,len(nums)):\n",
    "                if nums[i] + nums[j] == target:\n",
    "                    return i,j\n",
    "                \n",
    "ob = Solution()\n",
    "ob.twoSum([2,7,4],9) "
   ]
  },
  {
   "cell_type": "markdown",
   "id": "747c332e",
   "metadata": {},
   "source": [
    "#### Given a binary array nums, return the maximum number of consecutive 1's in the array."
   ]
  },
  {
   "cell_type": "code",
   "execution_count": null,
   "id": "c4de9d3d",
   "metadata": {},
   "outputs": [
    {
     "name": "stdout",
     "output_type": "stream",
     "text": [
      "6\n"
     ]
    }
   ],
   "source": [
    "class Solution(object):\n",
    "    def findMaxConsecutiveOnes(self, nums):\n",
    "        \"\"\"\n",
    "        :type nums: List[int]\n",
    "        :rtype: int\n",
    "        \"\"\"\n",
    "        tempstreek = 0\n",
    "        hstreek = 0\n",
    "        for i in nums:\n",
    "            if i == 1:\n",
    "                if tempstreek > 0:\n",
    "                    tempstreek += 1\n",
    "                else:\n",
    "                    tempstreek +=1\n",
    "            else:\n",
    "                if tempstreek > hstreek:\n",
    "                    hstreek = tempstreek\n",
    "                tempstreek = 0\n",
    "        if tempstreek > hstreek:\n",
    "            hstreek = tempstreek\n",
    "        return hstreek\n",
    "    \n",
    "a = Solution()\n",
    "b = a.findMaxConsecutiveOnes([1,0,1,1,1,0,1,1,1,1,1,1])\n",
    "print(b)"
   ]
  },
  {
   "cell_type": "markdown",
   "id": "9bf3c997",
   "metadata": {},
   "source": [
    "### Given an array nums of integers, return how many of them contain an even number of digits."
   ]
  },
  {
   "cell_type": "code",
   "execution_count": 6,
   "id": "8ae0fecb",
   "metadata": {},
   "outputs": [
    {
     "name": "stdout",
     "output_type": "stream",
     "text": [
      "2\n"
     ]
    }
   ],
   "source": [
    "class Solution(object):\n",
    "    def findNumbers(self, nums):\n",
    "        \"\"\"\n",
    "        :type nums: List[int]\n",
    "        :rtype: int\n",
    "        \"\"\"\n",
    "        ## using string\n",
    "        # c = 0\n",
    "        # for i in nums:\n",
    "        #     a = str(i)\n",
    "        #     l = len(a)\n",
    "        #     if l % 2 == 0:\n",
    "        #         c += 1\n",
    "        # return c\n",
    "        \n",
    "        ## using division\n",
    "        c = 0\n",
    "        for i in nums:\n",
    "            length = 0\n",
    "            while i > 0:\n",
    "                i = i // 10\n",
    "                length +=1\n",
    "                \n",
    "            if length % 2 == 0:\n",
    "                c +=1\n",
    "        return c\n",
    "                \n",
    "a = Solution()\n",
    "b = a.findNumbers([12,345,2,6,7896])\n",
    "print(b)"
   ]
  },
  {
   "cell_type": "markdown",
   "id": "799f83fc",
   "metadata": {},
   "source": [
    "##### Given an integer array nums sorted in non-decreasing order, return an array of the squares of each number sorted in non-decreasing order."
   ]
  },
  {
   "cell_type": "code",
   "execution_count": null,
   "id": "72815474",
   "metadata": {},
   "outputs": [
    {
     "name": "stdout",
     "output_type": "stream",
     "text": [
      "[0, 1, 9, 16, 100]\n"
     ]
    }
   ],
   "source": [
    "class Solution(object):\n",
    "    def sortedSquares(self, nums):\n",
    "        \"\"\"\n",
    "        :type nums: List[int]\n",
    "        :rtype: List[int]\n",
    "        \"\"\"\n",
    "        arr = []\n",
    "        for i in nums:\n",
    "            s = i*i\n",
    "            arr.append(s)\n",
    "        return sorted(arr)\n",
    "    \n",
    "a = Solution()\n",
    "b = a.sortedSquares([-4,-1,0,3,10])\n",
    "print(b)"
   ]
  },
  {
   "cell_type": "markdown",
   "id": "9eb3450a",
   "metadata": {},
   "source": [
    "##### Given two non-negative integers low and high. Return the count of odd numbers between low and high (inclusive)."
   ]
  },
  {
   "cell_type": "code",
   "execution_count": 2,
   "id": "b03c89b0",
   "metadata": {},
   "outputs": [
    {
     "name": "stdout",
     "output_type": "stream",
     "text": [
      "3\n"
     ]
    }
   ],
   "source": [
    "class Solution(object):\n",
    "    def countOdds(self, low, high):\n",
    "        \"\"\"\n",
    "        :type low: int\n",
    "        :type high: int\n",
    "        :rtype: int\n",
    "        \"\"\"\n",
    "        result = 0\n",
    "        for i in range(low, high+1):\n",
    "            if i % 2 != 0:\n",
    "                result += 1\n",
    "        return result\n",
    "\n",
    "a = Solution()\n",
    "b = a.countOdds(3,7)\n",
    "print(b)"
   ]
  },
  {
   "cell_type": "markdown",
   "id": "2e29e188",
   "metadata": {},
   "source": [
    "Given an integer num, return the number of digits in num that divide num.\n",
    "\n",
    "An integer val divides nums if nums % val == 0.\n",
    "\n"
   ]
  },
  {
   "cell_type": "code",
   "execution_count": 4,
   "id": "e3c1959b",
   "metadata": {},
   "outputs": [
    {
     "name": "stdout",
     "output_type": "stream",
     "text": [
      "4\n"
     ]
    }
   ],
   "source": [
    "class Solution(object):\n",
    "    def countDigits(self, num):\n",
    "        \"\"\"\n",
    "        :type num: int\n",
    "        :rtype: int\n",
    "        \"\"\"\n",
    "        count = 0\n",
    "        for i in str(num):\n",
    "            if int(i) != 0  and num % int(i)  == 0:\n",
    "                count +=1\n",
    "        return count \n",
    "a = Solution()\n",
    "b = a.countDigits(1248)\n",
    "print(b)"
   ]
  },
  {
   "cell_type": "markdown",
   "id": "b9b159b9",
   "metadata": {},
   "source": [
    "Given an integer x, return true if x is a palindrome, and false otherwise."
   ]
  },
  {
   "cell_type": "code",
   "execution_count": 6,
   "id": "e906c7ad",
   "metadata": {},
   "outputs": [
    {
     "name": "stdout",
     "output_type": "stream",
     "text": [
      "True\n"
     ]
    }
   ],
   "source": [
    "class Solution(object):\n",
    "    def isPalindrome(self, x):\n",
    "        \"\"\"\n",
    "        :type x: int\n",
    "        :rtype: bool\n",
    "        \"\"\"\n",
    "        original = x\n",
    "        r=0\n",
    "        while x>0:\n",
    "            d=x%10\n",
    "            r=r*10+d\n",
    "            x=x//10\n",
    "        return r == original\n",
    "a = Solution()\n",
    "b = a.isPalindrome(121)\n",
    "print(b)"
   ]
  },
  {
   "cell_type": "markdown",
   "id": "9e25a316",
   "metadata": {},
   "source": [
    "Given an integer number n, return the difference between the product of its digits and the sum of its digits."
   ]
  },
  {
   "cell_type": "code",
   "execution_count": 9,
   "id": "57cf0e27",
   "metadata": {},
   "outputs": [
    {
     "name": "stdout",
     "output_type": "stream",
     "text": [
      "15\n"
     ]
    }
   ],
   "source": [
    "class Solution(object):\n",
    "    def subtractProductAndSum(self, n):\n",
    "        \"\"\"\n",
    "        :type n: int\n",
    "        :rtype: int\n",
    "        \"\"\"\n",
    "        p =1\n",
    "        s=0\n",
    "        while n > 0:\n",
    "            d = n%10\n",
    "            p *= d\n",
    "            s += d\n",
    "            n = n// 10\n",
    "        return p - s\n",
    "\n",
    "a = Solution()\n",
    "b = a.subtractProductAndSum(234)\n",
    "print(b)"
   ]
  }
 ],
 "metadata": {
  "kernelspec": {
   "display_name": "base",
   "language": "python",
   "name": "python3"
  },
  "language_info": {
   "codemirror_mode": {
    "name": "ipython",
    "version": 3
   },
   "file_extension": ".py",
   "mimetype": "text/x-python",
   "name": "python",
   "nbconvert_exporter": "python",
   "pygments_lexer": "ipython3",
   "version": "3.12.7"
  }
 },
 "nbformat": 4,
 "nbformat_minor": 5
}
